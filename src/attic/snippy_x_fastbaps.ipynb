{
 "cells": [
  {
   "cell_type": "code",
   "execution_count": 48,
   "id": "00c9632c",
   "metadata": {},
   "outputs": [],
   "source": [
    "import os\n",
    "import pandas as pd\n",
    "\n",
    "os.chdir('/Users/aaron/Desktop/MAC_paper/mac_evo/')\n",
    "\n",
    "def run_snippy_wf(out_dir, use_ref, threads=os.cpu_count()):\n",
    "    snippy = 'docker run -v $PWD:/data staphb/snippy snippy --cpus {threads} --outdir {out_dir} --ref {ref} --R1 reads/processed/{isolate}_R1_001.qcd.fastq.gz --R2 reads/processed/{isolate}_R2_001.qcd.fastq.gz'\n",
    "    ## run snippy on fastbaps clusters\n",
    "    df = pd.read_csv('data/fastbaps.tsv', sep='\\t')\n",
    "    clusters = [int(x) for x in open('data/fastbaps_clusters.txt', 'r').read().splitlines()]\n",
    "    with open('run_snippy_wf.sh', 'w') as f:\n",
    "        for cluster in clusters:\n",
    "            isolates = sorted(df[df['cluster'] == int(cluster)]['isolate'].to_list())\n",
    "            if use_ref:\n",
    "                ref = 'databases/GCF_009741445.1/GCF_009741445.1_ASM974144v1_genomic.fna'\n",
    "            else:\n",
    "                rep = isolates[0]\n",
    "                ref = 'assemblies/{}.contigs.fasta'.format(rep)\n",
    "            name = 'fastbaps_cluster_' + str(cluster).zfill(2)\n",
    "            out_dir = f'snippy_x_fastbaps/{name}'\n",
    "            cmds = []; subdirs = []\n",
    "            for isolate in isolates[1:len(isolates)]:\n",
    "                subdir = f'{out_dir}/{isolate}'\n",
    "                subdirs.append(subdir)\n",
    "                target = f'{subdir}/snps.csv'\n",
    "                if not os.path.exists(target):\n",
    "                    cmds.append(snippy.format(threads=threads, out_dir=subdir, ref=ref, isolate=isolate))\n",
    "            ## run snippy-core + gubbins + snp-sites + snp-dists\n",
    "            targets = [f'{out_dir}/core.full.aln', \n",
    "                       f'{out_dir}/gubbins.core.full.aln',\n",
    "                       f'{out_dir}/gubbins.filtered_polymorphic_sites.fasta',\n",
    "                       f'{out_dir}/gubbins.core.aln',\n",
    "                       f'{out_dir}/snp_dists.txt']\n",
    "            prefix = f'{out_dir}/core'\n",
    "            if not os.path.exists(out_dir):\n",
    "                os.makedirs(out_dir)\n",
    "            if not os.path.exists(targets[0]):\n",
    "                inp = ' '.join(subdirs)\n",
    "                snippy_core = f'docker run -v $PWD:/data staphb/snippy snippy-core --ref {ref} --prefix {prefix} {inp}'\n",
    "                cmds.append(snippy_core)\n",
    "            if not os.path.exists(targets[1]):\n",
    "                snippy_clean_full_aln = f'docker run -v $PWD:/data staphb/snippy snippy-clean_full_aln {out_dir}/core.full.aln > {out_dir}/gubbins.core.full.aln'\n",
    "                cmds.append(snippy_clean_full_aln)\n",
    "            if not os.path.exists(targets[2]):\n",
    "                run_gubbins = f'run_gubbins.py --prefix {out_dir}/gubbins {out_dir}/gubbins.core.full.aln --threads {os.cpu_count()}'\n",
    "                cmds.append(run_gubbins)\n",
    "            if not os.path.exists(targets[3]):\n",
    "                snp_sites = f'docker run -v $PWD:/data staphb/snp-sites snp-sites -c {out_dir}/gubbins.filtered_polymorphic_sites.fasta > {out_dir}/gubbins.core.aln'\n",
    "                cmds.append(snp_sites)\n",
    "            if not os.path.exists(targets[4]):\n",
    "                snp_dists = f'docker run -v $PWD:/data staphb/snp-dists snp-dists {out_dir}/gubbins.core.aln > {out_dir}/snp_dists.txt'\n",
    "                cmds.append(snp_dists)\n",
    "            cmd = ' && '.join(cmds) + '\\n'\n",
    "            f.write(cmd)\n"
   ]
  },
  {
   "cell_type": "code",
   "execution_count": 49,
   "id": "854941f3",
   "metadata": {},
   "outputs": [],
   "source": [
    "run_snippy_wf(out_dir='snippy_x_fastbaps', use_ref=False, threads=os.cpu_count())"
   ]
  },
  {
   "cell_type": "code",
   "execution_count": 45,
   "id": "388664a0",
   "metadata": {},
   "outputs": [
    {
     "data": {
      "text/plain": [
       "['b', 'c']"
      ]
     },
     "execution_count": 45,
     "metadata": {},
     "output_type": "execute_result"
    }
   ],
   "source": [
    "['a', 'b', 'c'][1:4]"
   ]
  },
  {
   "cell_type": "code",
   "execution_count": 2,
   "id": "fff0c9e0",
   "metadata": {},
   "outputs": [
    {
     "name": "stdout",
     "output_type": "stream",
     "text": [
      "              isolate  cluster\n",
      "0          ERR4022296       23\n",
      "1          ERR4022330       23\n",
      "2          ERR4022304       23\n",
      "3           Reference        6\n",
      "4    23IE176_S15_L001        6\n",
      "..                ...      ...\n",
      "281        ERR3468814       22\n",
      "282        ERR3468806       22\n",
      "283        ERR3468956       22\n",
      "284        ERR3468926       22\n",
      "285        ERR4022334       23\n",
      "\n",
      "[286 rows x 2 columns]\n"
     ]
    }
   ],
   "source": [
    "import pandas as pd\n",
    "import os\n",
    "\n",
    "os.chdir('/Users/aaron/Desktop/MAC_paper/mac_evo')\n",
    "\n",
    "df = pd.read_csv('data/fastbaps.tsv', sep='\\t')\n",
    "print(df)"
   ]
  },
  {
   "cell_type": "code",
   "execution_count": null,
   "id": "02180b66",
   "metadata": {},
   "outputs": [],
   "source": [
    "def run_snippy_wf(out_dir, use_ref):\n",
    "    ## run snippy on fastbaps clusters\n",
    "    df = pd.read_csv('data/fastbaps.tsv', sep='\\t')\n",
    "    clusters = [int(x) for x in open('data/fastbaps_clusters.txt', 'r').read().splitlines()]\n",
    "    with open('run_snippy_wf.sh', 'w') as f:\n",
    "        for cluster in clusters:\n",
    "                if use_ref:\n",
    "                    ref = 'databases/GCF_009741445.1/GCF_009741445.1_ASM974144v1_genomic.fna'\n",
    "                else:\n",
    "                    rep = df[df['cluster'] == cluster]['isolate'].to_list()[0]\n",
    "                    ref = 'assemblies/{}.contigs.fasta.gz'.format(rep)\n",
    "                "
   ]
  },
  {
   "cell_type": "code",
   "execution_count": 6,
   "id": "277eaa2a",
   "metadata": {},
   "outputs": [
    {
     "name": "stdout",
     "output_type": "stream",
     "text": [
      "assemblies/ERR12861631.contigs.fasta.gz\n",
      "assemblies/ERR6057609.contigs.fasta.gz\n",
      "assemblies/ERR6057651.contigs.fasta.gz\n",
      "assemblies/ERR12861674.contigs.fasta.gz\n",
      "assemblies/ERR3566356.contigs.fasta.gz\n",
      "assemblies/ERR6057683.contigs.fasta.gz\n",
      "assemblies/ERR3468976.contigs.fasta.gz\n",
      "assemblies/ERR4022294.contigs.fasta.gz\n",
      "assemblies/ERR2988423.contigs.fasta.gz\n",
      "assemblies/ERR4022412.contigs.fasta.gz\n",
      "assemblies/ERR4339054.contigs.fasta.gz\n"
     ]
    }
   ],
   "source": [
    "run_snippy_wf(out_dir='snippy_x_fastbaps_2', use_ref=False)"
   ]
  }
 ],
 "metadata": {
  "kernelspec": {
   "display_name": "base",
   "language": "python",
   "name": "python3"
  },
  "language_info": {
   "codemirror_mode": {
    "name": "ipython",
    "version": 3
   },
   "file_extension": ".py",
   "mimetype": "text/x-python",
   "name": "python",
   "nbconvert_exporter": "python",
   "pygments_lexer": "ipython3",
   "version": "3.10.12"
  }
 },
 "nbformat": 4,
 "nbformat_minor": 5
}
