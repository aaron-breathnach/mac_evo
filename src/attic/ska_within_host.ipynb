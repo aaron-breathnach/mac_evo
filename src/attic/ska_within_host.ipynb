{
 "cells": [
  {
   "cell_type": "code",
   "execution_count": null,
   "id": "14630833",
   "metadata": {},
   "outputs": [],
   "source": [
    "import os\n",
    "import subprocess\n",
    "os.chdir('/Users/aaron/Desktop/help/natasha')"
   ]
  },
  {
   "cell_type": "code",
   "execution_count": 12,
   "id": "3bdce6c0",
   "metadata": {},
   "outputs": [
    {
     "data": {
      "text/plain": [
       "[CompletedProcess(args='mv \"ASM_1 (1).raw\" ASM_1.raw', returncode=0),\n",
       " CompletedProcess(args='mv \"MEB_1 (5).raw\" MEB_1.raw', returncode=0),\n",
       " CompletedProcess(args='mv \"LB_C (1).raw\" LB_C.raw', returncode=0),\n",
       " CompletedProcess(args='mv \"ASM_C (1).raw\" ASM_C.raw', returncode=0),\n",
       " CompletedProcess(args='mv \"LB_1 (1).raw\" LB_1.raw', returncode=0),\n",
       " CompletedProcess(args='mv \"MEB_C (1).raw\" MEB_C.raw', returncode=0)]"
      ]
     },
     "execution_count": 12,
     "metadata": {},
     "output_type": "execute_result"
    }
   ],
   "source": [
    "[subprocess.run('mv \"{}\" {}'.format(x, x.split(' ')[0] + '.raw'), shell=True) for x in os.listdir() if '(' in x]"
   ]
  },
  {
   "cell_type": "code",
   "execution_count": 5,
   "id": "8d86e0e1",
   "metadata": {},
   "outputs": [],
   "source": [
    "raws = [os.path.abspath(f'raw/{x}') for x in os.listdir('raw') if '.raw' in x]\n",
    "\n",
    "with open('run_ThermoRawFileParser.sh', 'w') as f:\n",
    "    for raw in raws:\n",
    "        cmd = f'mono ThermoRawFileParser1.4.5/ThermoRawFileParser.exe -i={raw} -o mzml\\n'\n",
    "        f.write(cmd)\n",
    "\n"
   ]
  },
  {
   "cell_type": "code",
   "execution_count": null,
   "id": "8b71da6a",
   "metadata": {},
   "outputs": [],
   "source": [
    "import os\n",
    "import pandas as pd\n",
    "os.chdir('/Users/aaron/Desktop/MAC_paper/mac_evo/')"
   ]
  },
  {
   "cell_type": "code",
   "execution_count": null,
   "id": "77ab308c",
   "metadata": {},
   "outputs": [],
   "source": [
    "if not os.path.exists('ska_within_host'):\n",
    "    os.makedirs('ska_within_host')"
   ]
  },
  {
   "cell_type": "code",
   "execution_count": null,
   "id": "188a9be9",
   "metadata": {},
   "outputs": [
    {
     "name": "stdout",
     "output_type": "stream",
     "text": [
      "['P01', 'P03', 'P05', 'P07', 'P08', 'P09', 'P11', 'P12', 'P13', 'P14', 'P15', 'P17', 'P18', 'P20', 'VT_070', 'VT_086', 'VT_104', 'VT_124', 'VT_169', 'VT_199', 'VT_218', 'VT_221', 'VT_260', 'VT_261', 'VT_267', 'VT_275', 'Wetzstein_007', 'Wetzstein_024', 'Wetzstein_046', 'Wetzstein_047', 'Wetzstein_060', 'Wetzstein_065', 'Wetzstein_090', 'Wetzstein_121', 'Wetzstein_125', 'Wetzstein_132', 'Wetzstein_144', 'Wetzstein_151', 'Wetzstein_176', 'Wetzstein_194']\n"
     ]
    }
   ],
   "source": [
    "df = pd.read_csv('data/metadata.tsv', sep='\\t')\n",
    "patients = open('data/patients.txt', 'r').read().splitlines()\n"
   ]
  },
  {
   "cell_type": "code",
   "execution_count": null,
   "id": "da076818",
   "metadata": {},
   "outputs": [],
   "source": [
    "ska_build = 'ska build -f {out_dir}/file_list.txt -k 31 -o {out_dir}/index --threads 8 -v'\n",
    "ska_align = 'ska align --min-freq 1 --filter no-filter {out_dir}/index.skf -o {out_dir}/alignment.aln --ambig-mask --threads 8 -v'\n",
    "snp_sites = 'docker run -v $PWD:/data staphb/snp-sites snp-sites -c {out_dir}/alignment.aln > {out_dir}/alignment.core.aln'\n",
    "snp_dists = 'docker run -v $PWD:/data staphb/snp-dists snp-dists {out_dir}/alignment.core.aln > {out_dir}/snp_dists.txt'\n",
    "\n",
    "with open('run_ska_within_host.sh', 'w') as f:\n",
    "    for patient in patients:\n",
    "        out_dir = f'ska_within_host/{patient}'\n",
    "        for cmd in [ska_build, ska_align, snp_dists, snp_sites]:\n",
    "            f.write(cmd.format(out_dir=out_dir) + '\\n')\n",
    "        if not os.path.exists(out_dir):\n",
    "            os.makedirs(out_dir)\n",
    "        isolates = df[df['patient'] == patient]['isolate'].tolist()\n",
    "        file_list = f'{out_dir}/file_list.txt'\n",
    "        with open(file_list, 'w') as filelist:\n",
    "            for isolate in isolates:\n",
    "                reads = '\\t'.join([f'reads/processed/{isolate}_R{x}_001.qcd.fastq.gz' for x in [1, 2]])\n",
    "                filelist.write(f'{isolate}\\t{reads}\\n')\n"
   ]
  },
  {
   "cell_type": "code",
   "execution_count": null,
   "id": "7ca5c100",
   "metadata": {},
   "outputs": [],
   "source": []
  },
  {
   "cell_type": "code",
   "execution_count": 14,
   "id": "4979c010",
   "metadata": {},
   "outputs": [],
   "source": [
    "snp_sites = 'docker run -v $PWD:/data staphb/snp-sites snp-sites -c {out_dir}/alignment.aln > {out_dir}/alignment.core.aln'\n",
    "snp_dists = 'docker run -v $PWD:/data staphb/snp-dists snp-dists {out_dir}/alignment.core.aln > {out_dir}/snp_dists.txt'\n",
    "\n",
    "with open('run_ska_within_host_snp_dists.sh', 'w') as f:\n",
    "    for patient in patients:\n",
    "        out_dir = f'ska_within_host/{patient}'\n",
    "        for cmd in [snp_sites, snp_dists]:\n",
    "            f.write(cmd.format(out_dir=out_dir) + '\\n')"
   ]
  }
 ],
 "metadata": {
  "kernelspec": {
   "display_name": "base",
   "language": "python",
   "name": "python3"
  },
  "language_info": {
   "codemirror_mode": {
    "name": "ipython",
    "version": 3
   },
   "file_extension": ".py",
   "mimetype": "text/x-python",
   "name": "python",
   "nbconvert_exporter": "python",
   "pygments_lexer": "ipython3",
   "version": "3.10.12"
  }
 },
 "nbformat": 4,
 "nbformat_minor": 5
}
