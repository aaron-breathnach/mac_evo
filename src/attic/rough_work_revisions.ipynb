{
 "cells": [
  {
   "cell_type": "code",
   "execution_count": 13,
   "id": "b423c25f",
   "metadata": {},
   "outputs": [],
   "source": [
    "import os\n",
    "from pathlib import Path\n",
    "import subprocess\n"
   ]
  },
  {
   "cell_type": "code",
   "execution_count": 16,
   "id": "7bd1e10d",
   "metadata": {},
   "outputs": [],
   "source": [
    "files = [x.as_posix() for x in Path().rglob('*.*') if not x.as_posix().endswith('.fna')]"
   ]
  },
  {
   "cell_type": "code",
   "execution_count": 4,
   "id": "2b2b427f",
   "metadata": {},
   "outputs": [
    {
     "data": {
      "text/plain": [
       "'/Users/aaron'"
      ]
     },
     "execution_count": 4,
     "metadata": {},
     "output_type": "execute_result"
    }
   ],
   "source": [
    "from pathlib import Path\n",
    "Path.home().as_posix()"
   ]
  },
  {
   "cell_type": "code",
   "execution_count": 29,
   "id": "5b1ed62e",
   "metadata": {},
   "outputs": [],
   "source": [
    "import os\n",
    "import pandas as pd\n",
    "from pathlib import Path\n",
    "import sys\n",
    "\n",
    "info = '''\n",
    "# Mycobacterium avium strain {reference}\n",
    "{reference}.genome : Mycobacterium avium strain {reference}\n",
    "    {reference}.chromosomes : {chromosomes}\n",
    "    {reference}.{chromosome_0}.codonTable : Bacterial_and_Plant_Plastid\n",
    "'''.strip('\\n').split('\\n')\n",
    "\n",
    "def get_chromosomes(fna):\n",
    "    with open(fna, 'r') as f:\n",
    "        chromosomes = ', '.join([header.split('|')[-1:][0].strip('\\n') for header in f.readlines() if '>' in header])\n",
    "    return(chromosomes)\n",
    "\n",
    "def edit_config(reference):\n",
    "    config = '{}/snpEff/snpEff.config'.format(Path.home().as_posix())\n",
    "    target = '# Mycobacterium avium strain {}'.format(reference)\n",
    "    f = open(config, 'r')\n",
    "    lines = f.readlines()\n",
    "    if not target in lines:\n",
    "        n = 0\n",
    "        dictionary = {'part_1': [], 'part_3': []}\n",
    "        for l in lines:\n",
    "            n += 1\n",
    "            if n < 235:\n",
    "                dictionary['part_1'].append(l)\n",
    "            else:\n",
    "                dictionary['part_3'].append(l)\n",
    "        fna = 'prokka/{reference}/{reference}.fna'.format(reference=reference)\n",
    "        chromosomes = get_chromosomes(fna)\n",
    "        chromosome_0 = chromosomes.split(', ')[0]\n",
    "        part_2 = '\\n'.join(info).format(reference=reference, chromosomes=chromosomes, chromosome_0=chromosome_0) + '\\n'\n",
    "        lines = dictionary['part_1'] + [part_2] + dictionary['part_3']\n",
    "        with open(config, 'w') as f:\n",
    "            [f.write(line) for line in lines]\n",
    "\n",
    "def snpEff_build(reference):\n",
    "    out_dir = '{}/snpEff/data/{}'.format(Path.home().as_posix(), reference)\n",
    "    if not os.path.exists(out_dir):\n",
    "        os.makedirs(out_dir)\n",
    "    cds = 'cp prokka/{ref}/{ref}.ffn {out_dir}/cds.fa'.format(ref=reference, out_dir=out_dir)\n",
    "    faa = 'cp prokka/{ref}/{ref}.faa {out_dir}/protein.faa'.format(ref=reference, out_dir=out_dir)\n",
    "    gbk = 'cp prokka/{ref}/{ref}.gbk {out_dir}/genes.gbk'.format(ref=reference, out_dir=out_dir)\n",
    "    snpEff_build = 'java -jar {}/snpEff/snpEff.jar build -genbank -v {}'.format(Path.home().as_posix(), reference)\n",
    "    cmd = '{} && {} && {} && {}'.format(cds, faa, gbk, snpEff_build)\n",
    "    return(cmd)\n",
    "\n",
    "def snpEff_main(inp_vcf, out_dir, reference):\n",
    "    if not inp_vcf.endswith('.gz'):\n",
    "        cmd_1 = 'sed -i \\'s/gnl|X|//g\\' {}'.format(inp_vcf)\n",
    "    else:\n",
    "        cmd_1 = 'zcat < {} | sed \\'s/gnl|X|//g\\' > {}'.format(inp_vcf, inp_vcf.rstrip('.gz'))\n",
    "        inp_vcf = inp_vcf.rstrip('.gz')\n",
    "    out_vcf = '{}/{}'.format(out_dir, os.path.basename(inp_vcf).replace('.vcf', '.snpeff.vcf'))\n",
    "    cmd_2 = 'java -jar {}/snpEff/snpEff.jar {} {} > {}'.format(Path.home().as_posix(), reference, inp_vcf, out_vcf)\n",
    "    cmd = '{} && {}'.format(cmd_1, cmd_2)\n",
    "    return(cmd)\n",
    "\n",
    "def run_snpEff(dictionary, extension='vcf'):\n",
    "    cmds = []\n",
    "    patient = dictionary['patient']\n",
    "    reference = dictionary['reference']\n",
    "    ## make the database\n",
    "    edit_config(reference)\n",
    "    cmds.append(snpEff_build(reference))\n",
    "    ## run snpEff\n",
    "    queries = dictionary['query']\n",
    "    for query in queries:\n",
    "        out_dir = 'within_host_evolution/{}'.format(patient)\n",
    "        inp_vcf = '{}/{}.{}'.format(out_dir, query, extension)\n",
    "        cmds.append(snpEff_main(inp_vcf, out_dir, reference))\n",
    "    cmd = ' && '.join(cmds)\n",
    "    return(cmd)\n",
    "\n",
    "def get_ref(patient, df):\n",
    "    df = df[df['patient'] == patient]\n",
    "    reference = df.nsmallest(1, 'time_from_diagnosis').iloc[0, 1]\n",
    "    query = df[df['isolate'] != reference]['isolate'].to_list()\n",
    "    output = {'patient': patient, 'reference': reference, 'query': query}\n",
    "    return(output)\n",
    "\n",
    "def list_patients(df):\n",
    "    df = df[['patient', 'multiple_carriage']].drop_duplicates()\n",
    "    patients = df[df['multiple_carriage']==False]['patient'].to_list()\n",
    "    return(patients)"
   ]
  },
  {
   "cell_type": "code",
   "execution_count": 30,
   "id": "66fe041b",
   "metadata": {},
   "outputs": [],
   "source": [
    "os.chdir('/Users/aaron/Desktop/MAC_paper/mac_evo/')\n",
    "\n",
    "dat = pd.read_csv('data/metadata.tsv', sep='\\t')\n",
    "extension = 'lofreq.vcf.gz'\n",
    "patients = list_patients(dat)\n",
    "cmds = []\n",
    "for patient in patients:\n",
    "    dictionary = get_ref(patient, dat)\n",
    "    cmd = run_snpEff(dictionary, extension)\n",
    "    cmds.append(cmd)\n",
    "with open('run_within_host_snpeff.sh', 'w') as f:\n",
    "    for cmd in cmds:\n",
    "        if len(cmd.replace(' ', '')) > 0:\n",
    "            f.write(cmd + '\\n')\n"
   ]
  },
  {
   "cell_type": "code",
   "execution_count": null,
   "id": "834b56c8",
   "metadata": {},
   "outputs": [],
   "source": [
    "metadata = pd.read_csv('data/metadata.tsv', sep='\\t')\n"
   ]
  },
  {
   "cell_type": "code",
   "execution_count": null,
   "id": "64ee697e",
   "metadata": {},
   "outputs": [],
   "source": []
  },
  {
   "cell_type": "code",
   "execution_count": 53,
   "id": "ad9bd694",
   "metadata": {},
   "outputs": [],
   "source": [
    "import os\n",
    "from pathlib import Path\n",
    "import subprocess\n",
    "\n",
    "os.chdir('/Users/aaron/Desktop/MAC_paper/mac_evo/')\n",
    "\n",
    "reads_r1 = ['reads/processed/{}_R1_001.qcd.fastq.gz'.format(x) for x in metadata['isolate'].to_list()]\n",
    "reads_r2 = ['reads/processed/{}_R2_001.qcd.fastq.gz'.format(x) for x in metadata['isolate'].to_list()]\n",
    "reads = reads_r1 + reads_r2\n",
    "\n",
    "files = [x.as_posix() for x in Path().rglob('reads/processed/*.qcd.fastq.gz') if not x.as_posix() in reads]\n",
    "for f in files:\n",
    "    cmd = 'rm {}'.format(f)\n",
    "    subprocess.run(cmd, shell=True)"
   ]
  },
  {
   "cell_type": "code",
   "execution_count": 62,
   "id": "e919a279",
   "metadata": {},
   "outputs": [],
   "source": [
    "import pandas as pd\n",
    "\n",
    "df = pd.read_csv('data/metadata.tsv', sep='\\t')\n",
    "isolates = df[df['study'] == 'Wetzstein']['isolate'].to_list()\n",
    "\n",
    "spades = 'spades.py -1 reads/processed/{isolate}_R1_001.qcd.fastq.gz -2 reads/processed/{isolate}_R2_001.qcd.fastq.gz -o spades/{isolate} --isolate -t 12 -m 32'\n",
    "\n",
    "assemblies = ['spades/{}/contigs.fasta'.format(isolate) for isolate in isolates]\n",
    "with open('run_spades.sh', 'w') as f:\n",
    "    for isolate in isolates:\n",
    "        assembly = 'spades/{}/contigs.fasta'.format(isolate)\n",
    "        if not os.path.exists(assembly):\n",
    "            cmd = spades.format(isolate=isolate)\n",
    "            f.write(cmd + '\\n')"
   ]
  },
  {
   "cell_type": "code",
   "execution_count": 64,
   "id": "9a9a922b",
   "metadata": {},
   "outputs": [],
   "source": [
    "n = 0\n",
    "for isolate in isolates:\n",
    "    assembly = 'assemblies/{}.contigs.fasta.gz'\n",
    "    if not os.path.exists(assembly):\n",
    "        n += 1"
   ]
  },
  {
   "cell_type": "code",
   "execution_count": null,
   "id": "e781dd4e",
   "metadata": {},
   "outputs": [
    {
     "name": "stdout",
     "output_type": "stream",
     "text": [
      "['ERR12861894', 'ERR12861904', 'ERR12861907', 'ERR12861559', 'ERR12861671', 'ERR12861672', 'ERR12861491', 'ERR12861493', 'ERR12861513', 'ERR12861557', 'ERR12861569', 'ERR12861584', 'ERR12861589', 'ERR12861603', 'ERR12861607', 'ERR12861610', 'ERR12861619', 'ERR12861643', 'ERR12861681', 'ERR12861682', 'ERR12861544', 'ERR12861547', 'ERR12861579', 'ERR12861581', 'ERR12861457', 'ERR12861560', 'ERR12861568', 'ERR12861572', 'ERR12861580', 'ERR12861617', 'ERR12861631', 'ERR12861454', 'ERR12861472', 'ERR12861503', 'ERR12861510', 'ERR12861514', 'ERR12861515', 'ERR12861535', 'ERR12861556', 'ERR12861561', 'ERR12861582', 'ERR12861629', 'ERR12861664', 'ERR12861665', 'ERR12861595', 'ERR12861602', 'ERR12861605', 'ERR12861612', 'ERR12861620', 'ERR12861624', 'ERR12861630', 'ERR12861633', 'ERR12861634', 'ERR12861649', 'ERR12861684', 'ERR12861685', 'ERR12861551', 'ERR12861555', 'ERR12861636', 'ERR12861533', 'ERR12861548', 'ERR12861436', 'ERR12861437', 'ERR12861441', 'ERR12861448', 'ERR12861673', 'ERR12861674', 'ERR12861546', 'ERR12861550', 'ERR12861621', 'ERR12861473', 'ERR12861482', 'ERR12861486', 'ERR12861492', 'ERR12861494', 'ERR12861497', 'ERR12861499', 'ERR12861500', 'ERR12861505', 'ERR12861509', 'ERR12861512', 'ERR12861516', 'ERR12861525', 'ERR12861658', 'ERR12861677', 'ERR12861678', 'ERR12861487', 'ERR12861495', 'ERR12861517', 'ERR12861657', 'ERR12861669', 'ERR12861670', 'ERR12861438', 'ERR12861470', 'ERR12861573', 'ERR12861611', 'ERR12861660', 'ERR12861662', 'ERR12861663', 'ERR12861593', 'ERR12861635', 'ERR12861659']\n"
     ]
    }
   ],
   "source": [
    "import glob\n",
    "assemblies = glob.glob('assemblies/*.contigs.fasta.gz')\n",
    "n = 0\n",
    "for assembly in assemblies:\n",
    "    isolate = assembly.split('/')[1].split('.')[0]\n",
    "    if not isolate in isolates:\n",
    "        print(isolate)"
   ]
  },
  {
   "cell_type": "code",
   "execution_count": 84,
   "id": "57b5986f",
   "metadata": {},
   "outputs": [],
   "source": [
    "import glob\n",
    "import subprocess\n",
    "\n",
    "df = pd.read_csv('data/metadata.tsv', sep='\\t')\n",
    "isolates = df['isolate'].to_list()\n",
    "\n",
    "assemblies = glob.glob('assemblies/*.contigs.fasta.gz')\n",
    "\n",
    "for assembly in assemblies:\n",
    "    isolate = assembly.split('/')[1].split('.')[0]\n",
    "    if not isolate in isolates:\n",
    "        cmd = 'rm {}'.format(assembly)\n",
    "        subprocess.run(cmd, shell=True)"
   ]
  },
  {
   "cell_type": "code",
   "execution_count": null,
   "id": "22760b11",
   "metadata": {},
   "outputs": [
    {
     "name": "stdout",
     "output_type": "stream",
     "text": [
      "185\n"
     ]
    }
   ],
   "source": [
    "import pandas as pd\n",
    "\n",
    "df = pd.read_csv('data/metadata.tsv', sep='\\t')\n",
    "isolates = df['isolate'].to_list()\n",
    "\n",
    "n = 0\n",
    "for isolate in isolates:\n",
    "    assembly = 'assemblies/{}.contigs.fasta.gz'.format(isolate)\n",
    "    if os.path.exists(assembly):\n",
    "        n += 1\n"
   ]
  },
  {
   "cell_type": "code",
   "execution_count": 94,
   "id": "8135281b",
   "metadata": {},
   "outputs": [],
   "source": [
    "import os\n",
    "from pathlib import Path\n",
    "\n",
    "fasta = [x.as_posix() for x in Path('spades').rglob('contigs.fasta')]\n",
    "for f in fasta:\n",
    "    gzip = 'gzip spades/{}/contigs.fasta'.format(f)\n",
    "    subprocess.run(gzip, shell=True)\n",
    "\n",
    "contigs = [x.as_posix() for x in Path('spades').rglob('contigs.fasta.gz')]\n",
    "for contig in contigs:\n",
    "    isolate = contig.split('/')[1]\n",
    "    out = 'assemblies/{}.contigs.fasta.gz'.format(isolate)\n",
    "    cp = 'cp {} {}'.format(contig, out)\n",
    "    if not os.path.exists(out):\n",
    "        subprocess.run(cp, shell=True)\n"
   ]
  },
  {
   "cell_type": "code",
   "execution_count": null,
   "id": "08e28611",
   "metadata": {},
   "outputs": [],
   "source": [
    "import pandas as pd\n",
    "\n",
    "snippy_core = 'docker run -v $PWD:/data staphb/snippy snippy-core --ref databases/GCF_009741445.1/GCF_009741445.1_ASM974144v1_genomic.fna --prefix snippy/core.{} {}'\n",
    "snippy_clean_full_aln = 'docker run -v $PWD:/data staphb/snippy snippy-clean_full_aln snippy/core.{x}.full.aln > snippy/gubbins.{x}.aln'\n",
    "cmd = '{} && {}'.format(cmd_1, cmd_2)\n",
    "\n",
    "df = pd.read_csv('data/fastbaps.tsv', sep='\\t')\n",
    "clusters = set(df['level_1'].to_list())\n",
    "\n",
    "with open('run_snippy.sh', 'w') as f:\n",
    "    for cluster in clusters:\n",
    "        name = 'fastbaps_cluster_' + str(cluster).zfill(2)\n",
    "        isolates = ' '.join(['snippy/{}'.format(x) for x in df[df['level_1'] == cluster]['isolate'].to_list() if not 'Reference' in x])\n",
    "        cmd_1 = snippy_core.format(name, isolates)\n",
    "        cmd_2 = snippy_clean_full_aln.format(x=name)\n",
    "        cmd = '{} && {}'.format(cmd_1, cmd_2)\n",
    "        f.write(cmd + '\\n')\n"
   ]
  },
  {
   "cell_type": "code",
   "execution_count": 4,
   "id": "fcb3850a",
   "metadata": {},
   "outputs": [],
   "source": [
    "import glob\n",
    "import os\n",
    "os.chdir('/Users/aaron/Desktop/MAC_paper/mac_evo/gubbins/')\n",
    "run_gubbins = 'run_gubbins.py --prefix {} {} --threads 12'\n",
    "alignments = glob.glob('gubbins.*.aln')\n",
    "with open('run_gubbins.sh', 'w') as f:\n",
    "    for alignment in alignments:\n",
    "        cluster = alignment.split('.')[1]\n",
    "        if not os.path.exists('{}.filtered_polymorphic_sites.fasta'.format(cluster)):\n",
    "            cmd = run_gubbins.format(cluster, alignment)\n",
    "            f.write(cmd + '\\n')\n"
   ]
  },
  {
   "cell_type": "code",
   "execution_count": 11,
   "id": "4ce36346",
   "metadata": {},
   "outputs": [],
   "source": [
    "import glob\n",
    "os.chdir('/Users/aaron/Desktop/MAC_paper/mac_evo/')\n",
    "assemblies = glob.glob('assemblies/*')\n",
    "with open('ska/file_list.txt', 'w') as f:\n",
    "    for assembly in assemblies:\n",
    "        name = os.path.basename(assembly).split('.')[0]\n",
    "        f.write('{}\\t{}\\n'.format(name, assembly))"
   ]
  },
  {
   "cell_type": "code",
   "execution_count": null,
   "id": "5e2e1519",
   "metadata": {},
   "outputs": [],
   "source": [
    "\n",
    "ska_build = 'ska build -f assemblies.txt -k 31 -o ska/ska_index --threads 4'"
   ]
  }
 ],
 "metadata": {
  "kernelspec": {
   "display_name": "base",
   "language": "python",
   "name": "python3"
  },
  "language_info": {
   "codemirror_mode": {
    "name": "ipython",
    "version": 3
   },
   "file_extension": ".py",
   "mimetype": "text/x-python",
   "name": "python",
   "nbconvert_exporter": "python",
   "pygments_lexer": "ipython3",
   "version": "3.10.12"
  }
 },
 "nbformat": 4,
 "nbformat_minor": 5
}
